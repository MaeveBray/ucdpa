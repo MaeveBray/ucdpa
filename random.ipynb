{
 "cells": [
  {
   "cell_type": "code",
   "execution_count": 1,
   "id": "073e1c38",
   "metadata": {},
   "outputs": [
    {
     "data": {
      "text/plain": [
       "'this is some random code'"
      ]
     },
     "execution_count": 1,
     "metadata": {},
     "output_type": "execute_result"
    }
   ],
   "source": [
    "'this is some random code'"
   ]
  },
  {
   "cell_type": "code",
   "execution_count": 1,
   "id": "019107d5",
   "metadata": {},
   "outputs": [
    {
     "data": {
      "text/plain": [
       "'this is more random code'"
      ]
     },
     "execution_count": 1,
     "metadata": {},
     "output_type": "execute_result"
    }
   ],
   "source": [
    "'this is more random code'"
   ]
  },
  {
   "cell_type": "code",
   "execution_count": 2,
   "id": "ea7fe98f",
   "metadata": {},
   "outputs": [
    {
     "data": {
      "text/plain": [
       "'check out the new update'"
      ]
     },
     "execution_count": 2,
     "metadata": {},
     "output_type": "execute_result"
    }
   ],
   "source": [
    "'check out the new update'"
   ]
  },
  {
   "cell_type": "code",
   "execution_count": null,
   "id": "cb7edbfc",
   "metadata": {},
   "outputs": [],
   "source": []
  }
 ],
 "metadata": {
  "kernelspec": {
   "display_name": "Python 3",
   "language": "python",
   "name": "python3"
  },
  "language_info": {
   "codemirror_mode": {
    "name": "ipython",
    "version": 3
   },
   "file_extension": ".py",
   "mimetype": "text/x-python",
   "name": "python",
   "nbconvert_exporter": "python",
   "pygments_lexer": "ipython3",
   "version": "3.8.8"
  }
 },
 "nbformat": 4,
 "nbformat_minor": 5
}
